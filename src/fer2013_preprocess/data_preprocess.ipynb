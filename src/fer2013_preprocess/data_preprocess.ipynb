{
 "cells": [
  {
   "cell_type": "code",
   "execution_count": 29,
   "metadata": {},
   "outputs": [],
   "source": [
    "import os\n",
    "from PIL import Image\n",
    "import cv2\n",
    "import torch\n",
    "from tqdm import tqdm\n",
    "import numpy as np \n",
    "from mtcnn import MTCNN"
   ]
  },
  {
   "cell_type": "code",
   "execution_count": 30,
   "metadata": {},
   "outputs": [],
   "source": [
    "input_root = r'D:\\StudyPath\\GR1\\Facial-Emotion-Regconition\\archive'\n",
    "output_root = r'D:\\StudyPath\\GR1\\Facial-Emotion-Regconition\\fer2013_cropped'\n",
    "\n",
    "os.makedirs(output_root, exist_ok=True)\n",
    "for term in ['train', 'test']:\n",
    "    input_folder = os.path.join(input_root, term)\n",
    "    output_folder = os.path.join(output_root, term)\n",
    "    os.makedirs(output_folder, exist_ok=True)\n",
    "    for cls in os.listdir(input_folder):\n",
    "        os.makedirs(os.path.join(output_folder, cls), exist_ok=True)"
   ]
  },
  {
   "cell_type": "code",
   "execution_count": 31,
   "metadata": {},
   "outputs": [],
   "source": [
    "mtcnn = MTCNN()"
   ]
  },
  {
   "cell_type": "code",
   "execution_count": 32,
   "metadata": {},
   "outputs": [],
   "source": [
    "def crop_and_save_face(image_path, output_path):\n",
    "    try:\n",
    "        img = cv2.imread(image_path)\n",
    "        img_rgb = cv2.cvtColor(img, cv2.COLOR_BGR2RGB) \n",
    "\n",
    "        faces = mtcnn.detect_faces(img_rgb)  \n",
    "\n",
    "        if len(faces) == 0:\n",
    "            return False\n",
    "        \n",
    "        bounding_box = faces[0]['box'] \n",
    "        x, y, w, h = bounding_box\n",
    "        x, y = max(0, x), max(0, y)\n",
    "\n",
    "        cropped_face = img_rgb[y:y+h, x:x+w]  \n",
    "\n",
    "        face_img = Image.fromarray(cropped_face)\n",
    "\n",
    "        face_img = face_img.convert('L')\n",
    "        face_img = face_img.resize((48, 48))\n",
    "\n",
    "        face_img.save(output_path)\n",
    "        return True\n",
    "\n",
    "    except Exception as e:\n",
    "        print(f\"[ERROR] {image_path} → {e}\")\n",
    "        return False\n"
   ]
  },
  {
   "cell_type": "code",
   "execution_count": 33,
   "metadata": {},
   "outputs": [
    {
     "name": "stderr",
     "output_type": "stream",
     "text": [
      "angry: 100%|██████████| 3995/3995 [06:32<00:00, 10.17it/s]\n",
      "disgust: 100%|██████████| 436/436 [00:39<00:00, 10.92it/s]\n",
      "fear: 100%|██████████| 4097/4097 [06:22<00:00, 10.71it/s]\n",
      "happy: 100%|██████████| 7215/7215 [11:32<00:00, 10.42it/s]\n",
      "neutral: 100%|██████████| 4965/4965 [09:02<00:00,  9.15it/s]\n",
      "sad: 100%|██████████| 4830/4830 [08:13<00:00,  9.79it/s]\n",
      "surprise: 100%|██████████| 3171/3171 [05:29<00:00,  9.61it/s]\n",
      "angry: 100%|██████████| 958/958 [01:37<00:00,  9.78it/s]\n",
      "disgust: 100%|██████████| 111/111 [00:11<00:00,  9.96it/s]\n",
      "fear: 100%|██████████| 1024/1024 [01:44<00:00,  9.84it/s]\n",
      "happy: 100%|██████████| 1774/1774 [03:45<00:00,  7.86it/s]\n",
      "neutral: 100%|██████████| 1233/1233 [02:35<00:00,  7.95it/s]\n",
      "sad: 100%|██████████| 1247/1247 [02:18<00:00,  9.03it/s]\n",
      "surprise: 100%|██████████| 831/831 [01:31<00:00,  9.08it/s]\n"
     ]
    }
   ],
   "source": [
    "for term in ['train', 'test']:\n",
    "    input_folder = os.path.join(input_root, term)\n",
    "    output_folder = os.path.join(output_root, term)\n",
    "\n",
    "    for cls in os.listdir(input_folder):\n",
    "        input_cls = os.path.join(input_folder, cls)\n",
    "        output_cls = os.path.join(output_folder, cls)\n",
    "\n",
    "        for img_name in tqdm(os.listdir(input_cls), desc=f'{cls}'):\n",
    "            input_path = os.path.join(input_cls, img_name)\n",
    "            output_path = os.path.join(output_cls, img_name)\n",
    "\n",
    "            crop_and_save_face(input_path, output_path)"
   ]
  }
 ],
 "metadata": {
  "kernelspec": {
   "display_name": "myenv",
   "language": "python",
   "name": "python3"
  },
  "language_info": {
   "codemirror_mode": {
    "name": "ipython",
    "version": 3
   },
   "file_extension": ".py",
   "mimetype": "text/x-python",
   "name": "python",
   "nbconvert_exporter": "python",
   "pygments_lexer": "ipython3",
   "version": "3.12.1"
  }
 },
 "nbformat": 4,
 "nbformat_minor": 2
}
