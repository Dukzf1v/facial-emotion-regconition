{
 "cells": [
  {
   "cell_type": "code",
   "execution_count": 1,
   "metadata": {},
   "outputs": [],
   "source": [
    "import os\n",
    "import shutil\n",
    "from tqdm import tqdm\n",
    "from PIL import Image\n",
    "import torchvision.transforms as transforms"
   ]
  },
  {
   "cell_type": "code",
   "execution_count": 2,
   "metadata": {},
   "outputs": [
    {
     "name": "stdout",
     "output_type": "stream",
     "text": [
      "angry: 740 images\n",
      "disgust: 103 images\n",
      "fear: 592 images\n",
      "happy: 1745 images\n",
      "neutral: 1235 images\n",
      "sad: 587 images\n",
      "surprise: 566 images\n"
     ]
    }
   ],
   "source": [
    "train_path = r'D:\\StudyPath\\GR1\\Facial-Emotion-Regconition\\new_fer2013_cropped\\train'\n",
    "\n",
    "for cls in os.listdir(train_path):\n",
    "    cls_path = os.path.join(train_path, cls)\n",
    "    length = len([img for img in os.listdir(cls_path) if os.path.isfile(os.path.join(cls_path, img))])\n",
    "    print(f'{cls}: {length} images')\n"
   ]
  },
  {
   "cell_type": "code",
   "execution_count": 3,
   "metadata": {},
   "outputs": [],
   "source": [
    "disgust_path = r'D:\\StudyPath\\GR1\\Facial-Emotion-Regconition\\new_fer2013_cropped\\train\\disgust'"
   ]
  },
  {
   "cell_type": "code",
   "execution_count": 5,
   "metadata": {},
   "outputs": [],
   "source": [
    "augmentations = transforms.Compose([\n",
    "    transforms.RandomHorizontalFlip(p=0.8),\n",
    "    transforms.RandomRotation(15),\n",
    "    transforms.ColorJitter(brightness=0.3, contrast=0.3, saturation=0.3),\n",
    "    transforms.RandomResizedCrop(size=160,scale=(0.8, 1.0))\n",
    "])"
   ]
  },
  {
   "cell_type": "code",
   "execution_count": 6,
   "metadata": {},
   "outputs": [],
   "source": [
    "augment_factor = 3"
   ]
  },
  {
   "cell_type": "code",
   "execution_count": 7,
   "metadata": {},
   "outputs": [
    {
     "name": "stderr",
     "output_type": "stream",
     "text": [
      "100%|██████████| 103/103 [00:01<00:00, 77.69it/s]\n"
     ]
    }
   ],
   "source": [
    "images = [img for img in os.listdir(disgust_path)]\n",
    "\n",
    "for img_name in tqdm(images):\n",
    "    img_path = os.path.join(disgust_path, img_name)\n",
    "    img = Image.open(img_path).convert('RGB') \n",
    "\n",
    "    for i in range(augment_factor):\n",
    "        aug_img = augmentations(img)\n",
    "        aug_img_name = f'aug_{i}_{img_name}'\n",
    "        aug_img.save(os.path.join(disgust_path, aug_img_name))\n"
   ]
  },
  {
   "cell_type": "code",
   "execution_count": 8,
   "metadata": {},
   "outputs": [
    {
     "name": "stdout",
     "output_type": "stream",
     "text": [
      "angry: 740 images\n",
      "disgust: 412 images\n",
      "fear: 592 images\n",
      "happy: 1745 images\n",
      "neutral: 1235 images\n",
      "sad: 587 images\n",
      "surprise: 566 images\n"
     ]
    }
   ],
   "source": [
    "for cls in os.listdir(train_path):\n",
    "    cls_path = os.path.join(train_path, cls)\n",
    "    length = len([img for img in os.listdir(cls_path) if os.path.isfile(os.path.join(cls_path, img))])\n",
    "    print(f'{cls}: {length} images')"
   ]
  }
 ],
 "metadata": {
  "kernelspec": {
   "display_name": "myenv",
   "language": "python",
   "name": "python3"
  },
  "language_info": {
   "codemirror_mode": {
    "name": "ipython",
    "version": 3
   },
   "file_extension": ".py",
   "mimetype": "text/x-python",
   "name": "python",
   "nbconvert_exporter": "python",
   "pygments_lexer": "ipython3",
   "version": "3.12.1"
  }
 },
 "nbformat": 4,
 "nbformat_minor": 2
}
