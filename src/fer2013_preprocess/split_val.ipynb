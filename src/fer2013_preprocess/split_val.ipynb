{
 "cells": [
  {
   "cell_type": "code",
   "execution_count": 16,
   "metadata": {},
   "outputs": [],
   "source": [
    "from tqdm import tqdm\n",
    "from sklearn.model_selection import train_test_split\n",
    "import os\n",
    "import shutil"
   ]
  },
  {
   "cell_type": "code",
   "execution_count": 17,
   "metadata": {},
   "outputs": [],
   "source": [
    "train_root = r'D:\\StudyPath\\GR1\\Facial-Emotion-Regconition\\fer2013_cropped\\train'\n",
    "new_train_root = r'D:\\StudyPath\\GR1\\Facial-Emotion-Regconition\\new_fer2013_cropped\\train'\n",
    "val_root = r'D:\\StudyPath\\GR1\\Facial-Emotion-Regconition\\new_fer2013_cropped\\val'\n",
    "os.makedirs(new_train_root, exist_ok=True)\n",
    "os.makedirs(val_root, exist_ok=True)"
   ]
  },
  {
   "cell_type": "code",
   "execution_count": 18,
   "metadata": {},
   "outputs": [
    {
     "name": "stderr",
     "output_type": "stream",
     "text": [
      "100%|██████████| 7/7 [00:32<00:00,  4.70s/it]\n"
     ]
    }
   ],
   "source": [
    "for cls in tqdm(os.listdir(train_root)):\n",
    "    cls_path = os.path.join(train_root, cls)\n",
    "    images = os.listdir(cls_path)\n",
    "\n",
    "    train_imgs, val_imgs = train_test_split(images, test_size=0.15, random_state=42)\n",
    "\n",
    "    os.makedirs(os.path.join(new_train_root, cls), exist_ok=True)\n",
    "    os.makedirs(os.path.join(val_root, cls), exist_ok=True)\n",
    "\n",
    "    for img in train_imgs:\n",
    "        shutil.copy2(os.path.join(cls_path, img), os.path.join(new_train_root, cls, img))\n",
    "\n",
    "    for img in val_imgs:\n",
    "        shutil.copy2(os.path.join(cls_path, img), os.path.join(val_root, cls, img))"
   ]
  },
  {
   "cell_type": "code",
   "execution_count": 19,
   "metadata": {},
   "outputs": [],
   "source": [
    "\n",
    "src_test_root = r'D:\\StudyPath\\GR1\\Facial-Emotion-Regconition\\fer2013_cropped\\test'\n",
    "dst_test_root = r'D:\\StudyPath\\GR1\\Facial-Emotion-Regconition\\new_fer2013_cropped\\test'\n",
    "os.makedirs(dst_test_root, exist_ok=True)\n",
    "\n",
    "for cls in os.listdir(src_test_root):\n",
    "    os.makedirs(os.path.join(dst_test_root, cls), exist_ok=True)\n",
    "    for img in os.listdir(os.path.join(src_test_root, cls)):\n",
    "        shutil.copy2(\n",
    "            os.path.join(src_test_root, cls, img),\n",
    "            os.path.join(dst_test_root, cls, img)\n",
    "        )"
   ]
  },
  {
   "cell_type": "code",
   "execution_count": 20,
   "metadata": {},
   "outputs": [
    {
     "name": "stdout",
     "output_type": "stream",
     "text": [
      "angry: 2848\n",
      "disgust: 277\n",
      "fear: 2757\n",
      "happy: 5310\n",
      "neutral: 3745\n",
      "sad: 3105\n",
      "surprise: 2312\n"
     ]
    }
   ],
   "source": [
    "train_root = r'D:\\StudyPath\\GR1\\Facial-Emotion-Regconition\\new_fer2013_cropped\\train'\n",
    "for cls in os.listdir(train_root):\n",
    "    print(f'{cls}: {len([f for f in os.listdir(os.path.join(train_root, cls))])}')"
   ]
  }
 ],
 "metadata": {
  "kernelspec": {
   "display_name": "myenv",
   "language": "python",
   "name": "python3"
  },
  "language_info": {
   "codemirror_mode": {
    "name": "ipython",
    "version": 3
   },
   "file_extension": ".py",
   "mimetype": "text/x-python",
   "name": "python",
   "nbconvert_exporter": "python",
   "pygments_lexer": "ipython3",
   "version": "3.12.1"
  }
 },
 "nbformat": 4,
 "nbformat_minor": 2
}
